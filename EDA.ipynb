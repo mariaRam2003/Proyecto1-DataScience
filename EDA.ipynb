{
 "cells": [
  {
   "cell_type": "markdown",
   "metadata": {},
   "source": [
    "# EDA Proyecto 1\n",
    "### Data Science\n",
    "### Gustavo Gonzalez, Pablo Orellana, Diego Leiva, Maria Ramirez\n",
    "-----------------------------------------------------------------------------\n",
    "En esta primera etapa se realizan los siguientes avances para el proyecto 1 del curso, incluyendo:\n",
    "- Describir el set de datos\n",
    "- Listar las variables que mas operaciones de limpieza necesitan\n",
    "- Especificar la estrategia para limpiar el conjunto de datos"
   ]
  },
  {
   "cell_type": "markdown",
   "metadata": {},
   "source": [
    "## Descripcion del Set de Datos"
   ]
  },
  {
   "cell_type": "code",
   "execution_count": null,
   "metadata": {},
   "outputs": [],
   "source": []
  }
 ],
 "metadata": {
  "language_info": {
   "name": "python"
  }
 },
 "nbformat": 4,
 "nbformat_minor": 2
}
